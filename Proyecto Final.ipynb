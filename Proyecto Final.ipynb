{
 "cells": [
  {
   "cell_type": "markdown",
   "metadata": {},
   "source": [
    "## Proyecto Final Data Science III"
   ]
  },
  {
   "cell_type": "code",
   "execution_count": null,
   "metadata": {},
   "outputs": [],
   "source": [
    "# Kayreth Marrero\n",
    "\n",
    "# El Dataset elegido proviene de una colección de tweets orientada al análisis de sentimiento. Cada registro representa un tweet, e incluye información sobre el texto del \n",
    "# mensaje, su categoría y la etiqueta de sentimiento correspondiente. Las etiquetas de sentimiento están categorizadas en cuatro clases: Positive, Negative, Neutral e Irrelevant.\n",
    "\n",
    "# Objetivo: Desarrollar un modelo de clasificación de sentimiento capaz de analizar y categorizar automáticamente tweets en cuatro clases de sentimiento: Positive, Negative, \n",
    "# Neutral e Irrelevant. Para lograrlo, aplicaremos técnicas de preprocesamiento de texto y evaluaremos varios modelos de aprendizaje automático con el fin de encontrar el más \n",
    "# efectivo en términos de precisión y capacidad para manejar el desbalance de clases."
   ]
  },
  {
   "cell_type": "markdown",
   "metadata": {},
   "source": [
    "### Descarga del archivo y creación del df"
   ]
  },
  {
   "cell_type": "code",
   "execution_count": null,
   "metadata": {},
   "outputs": [
    {
     "ename": "SyntaxError",
     "evalue": "invalid syntax (1234138080.py, line 2)",
     "output_type": "error",
     "traceback": [
      "\u001b[1;36m  Cell \u001b[1;32mIn[1], line 2\u001b[1;36m\u001b[0m\n\u001b[1;33m    pip install kaggle\u001b[0m\n\u001b[1;37m        ^\u001b[0m\n\u001b[1;31mSyntaxError\u001b[0m\u001b[1;31m:\u001b[0m invalid syntax\n"
     ]
    }
   ],
   "source": [
    "#Instala la biblioteca de Kaggle\n",
    "# pip install kaggle"
   ]
  },
  {
   "cell_type": "code",
   "execution_count": 1,
   "metadata": {},
   "outputs": [
    {
     "name": "stdout",
     "output_type": "stream",
     "text": [
      "Dataset URL: https://www.kaggle.com/datasets/jp797498e/twitter-entity-sentiment-analysis\n",
      "License(s): CC0-1.0\n",
      "Downloading twitter-entity-sentiment-analysis.zip to ./twitter_sentiment_dataset\n",
      "\n",
      "Dataset descargado en la carpeta './twitter_sentiment_dataset'\n"
     ]
    },
    {
     "name": "stderr",
     "output_type": "stream",
     "text": [
      "\n",
      "  0%|          | 0.00/1.99M [00:00<?, ?B/s]\n",
      " 50%|█████     | 1.00M/1.99M [00:00<00:00, 1.30MB/s]\n",
      "100%|██████████| 1.99M/1.99M [00:00<00:00, 2.57MB/s]\n",
      "100%|██████████| 1.99M/1.99M [00:00<00:00, 2.24MB/s]\n"
     ]
    }
   ],
   "source": [
    "import kaggle\n",
    "\n",
    "# Descarga el dataset de Kaggle\n",
    "!kaggle datasets download -d jp797498e/twitter-entity-sentiment-analysis -p ./twitter_sentiment_dataset --unzip\n",
    "\n",
    "print(\"Dataset descargado en la carpeta './twitter_sentiment_dataset'\")\n"
   ]
  },
  {
   "cell_type": "code",
   "execution_count": 2,
   "metadata": {},
   "outputs": [
    {
     "data": {
      "text/html": [
       "<div>\n",
       "<style scoped>\n",
       "    .dataframe tbody tr th:only-of-type {\n",
       "        vertical-align: middle;\n",
       "    }\n",
       "\n",
       "    .dataframe tbody tr th {\n",
       "        vertical-align: top;\n",
       "    }\n",
       "\n",
       "    .dataframe thead th {\n",
       "        text-align: right;\n",
       "    }\n",
       "</style>\n",
       "<table border=\"1\" class=\"dataframe\">\n",
       "  <thead>\n",
       "    <tr style=\"text-align: right;\">\n",
       "      <th></th>\n",
       "      <th>ID</th>\n",
       "      <th>Category</th>\n",
       "      <th>Sentiment</th>\n",
       "      <th>Text</th>\n",
       "    </tr>\n",
       "  </thead>\n",
       "  <tbody>\n",
       "    <tr>\n",
       "      <th>0</th>\n",
       "      <td>2401</td>\n",
       "      <td>Borderlands</td>\n",
       "      <td>Positive</td>\n",
       "      <td>im getting on borderlands and i will murder yo...</td>\n",
       "    </tr>\n",
       "    <tr>\n",
       "      <th>1</th>\n",
       "      <td>2401</td>\n",
       "      <td>Borderlands</td>\n",
       "      <td>Positive</td>\n",
       "      <td>I am coming to the borders and I will kill you...</td>\n",
       "    </tr>\n",
       "    <tr>\n",
       "      <th>2</th>\n",
       "      <td>2401</td>\n",
       "      <td>Borderlands</td>\n",
       "      <td>Positive</td>\n",
       "      <td>im getting on borderlands and i will kill you ...</td>\n",
       "    </tr>\n",
       "    <tr>\n",
       "      <th>3</th>\n",
       "      <td>2401</td>\n",
       "      <td>Borderlands</td>\n",
       "      <td>Positive</td>\n",
       "      <td>im coming on borderlands and i will murder you...</td>\n",
       "    </tr>\n",
       "    <tr>\n",
       "      <th>4</th>\n",
       "      <td>2401</td>\n",
       "      <td>Borderlands</td>\n",
       "      <td>Positive</td>\n",
       "      <td>im getting on borderlands 2 and i will murder ...</td>\n",
       "    </tr>\n",
       "  </tbody>\n",
       "</table>\n",
       "</div>"
      ],
      "text/plain": [
       "     ID     Category Sentiment  \\\n",
       "0  2401  Borderlands  Positive   \n",
       "1  2401  Borderlands  Positive   \n",
       "2  2401  Borderlands  Positive   \n",
       "3  2401  Borderlands  Positive   \n",
       "4  2401  Borderlands  Positive   \n",
       "\n",
       "                                                Text  \n",
       "0  im getting on borderlands and i will murder yo...  \n",
       "1  I am coming to the borders and I will kill you...  \n",
       "2  im getting on borderlands and i will kill you ...  \n",
       "3  im coming on borderlands and i will murder you...  \n",
       "4  im getting on borderlands 2 and i will murder ...  "
      ]
     },
     "execution_count": 2,
     "metadata": {},
     "output_type": "execute_result"
    }
   ],
   "source": [
    "import pandas as pd\n",
    "\n",
    "# Cargar el archivo con nombres de columnas personalizados\n",
    "df = pd.read_csv(\n",
    "    r\"C:\\Users\\kayma\\OneDrive\\Pyton Ejercicios\\CoderHouse\\Data Science III\\twitter_sentiment_dataset\\twitter_training.csv\",\n",
    "    names=[\"ID\", \"Category\", \"Sentiment\", \"Text\"]\n",
    ")\n",
    "\n",
    "# Mostrar las primeras filas y la información general del dataset para verificar\n",
    "df.head()"
   ]
  },
  {
   "cell_type": "markdown",
   "metadata": {},
   "source": [
    "### Analisis de los datos"
   ]
  },
  {
   "cell_type": "code",
   "execution_count": 3,
   "metadata": {},
   "outputs": [
    {
     "name": "stdout",
     "output_type": "stream",
     "text": [
      "<class 'pandas.core.frame.DataFrame'>\n",
      "RangeIndex: 74682 entries, 0 to 74681\n",
      "Data columns (total 4 columns):\n",
      " #   Column     Non-Null Count  Dtype \n",
      "---  ------     --------------  ----- \n",
      " 0   ID         74682 non-null  int64 \n",
      " 1   Category   74682 non-null  object\n",
      " 2   Sentiment  74682 non-null  object\n",
      " 3   Text       73996 non-null  object\n",
      "dtypes: int64(1), object(3)\n",
      "memory usage: 2.3+ MB\n"
     ]
    }
   ],
   "source": [
    "df.info()"
   ]
  },
  {
   "cell_type": "code",
   "execution_count": 4,
   "metadata": {},
   "outputs": [
    {
     "name": "stdout",
     "output_type": "stream",
     "text": [
      "  Sentiment                                               Text  Text_Length\n",
      "0  Positive  im getting on borderlands and i will murder yo...           11\n",
      "1  Positive  I am coming to the borders and I will kill you...           12\n",
      "2  Positive  im getting on borderlands and i will kill you ...           10\n",
      "3  Positive  im coming on borderlands and i will murder you...           10\n",
      "4  Positive  im getting on borderlands 2 and i will murder ...           12\n",
      "              count       mean        std  min   25%   50%   75%    max\n",
      "Sentiment                                                              \n",
      "Irrelevant  12990.0  19.466205  14.285915  0.0   8.0  16.0  28.0  163.0\n",
      "Negative    22542.0  19.891669  14.969074  0.0   8.0  16.0  29.0  198.0\n",
      "Neutral     18318.0  20.027787  14.241421  0.0  10.0  17.0  28.0  198.0\n",
      "Positive    20832.0  17.052899  14.071527  0.0   6.0  13.0  24.0  198.0\n"
     ]
    }
   ],
   "source": [
    "# Calcular la longitud de cada texto\n",
    "df['Text_Length'] = df['Text'].apply(lambda x: len(str(x).split()))\n",
    "\n",
    "# Revisar las primeras filas para confirmar\n",
    "print(df[['Sentiment', 'Text', 'Text_Length']].head())\n",
    "\n",
    "# Calcular estadísticas de longitud por clase de sentimiento\n",
    "length_stats = df.groupby('Sentiment')['Text_Length'].describe()\n",
    "\n",
    "# Mostrar las estadísticas de longitud\n",
    "print(length_stats)"
   ]
  },
  {
   "cell_type": "code",
   "execution_count": null,
   "metadata": {},
   "outputs": [],
   "source": [
    "# Las clases tienen longitudes promedio similares, con un promedio que ronda entre 17 y 20 palabras.\n",
    "# La clase Positive tiene una longitud promedio más baja (17 palabras), mientras que Neutral tiene la más alta (20 palabras).\n",
    "# Desviación estándar, Todas las clases presentan una desviación estándar similar, lo que indica que las variaciones en la longitud \n",
    "# de los textos son consistentes en cada clase.\n",
    "# Hay textos muy cortos (0 palabras), lo cual podría indicar tweets vacíos o problemas en la captura del texto.\n",
    "# La longitud máxima varía entre 163 y 198 palabras, lo cual sugiere algunos tweets muy extensos."
   ]
  },
  {
   "cell_type": "markdown",
   "metadata": {},
   "source": [
    "### Preprocesamiento de texto y la codificación de etiquetas."
   ]
  },
  {
   "cell_type": "code",
   "execution_count": 6,
   "metadata": {},
   "outputs": [],
   "source": [
    "# Reemplazar valores NaN en la columna 'Text' con cadenas vacías y asegurarse de que todos son cadenas\n",
    "df['Text'] = df['Text'].fillna(\"\").astype(str)"
   ]
  },
  {
   "cell_type": "code",
   "execution_count": null,
   "metadata": {},
   "outputs": [
    {
     "name": "stdout",
     "output_type": "stream",
     "text": [
      "torch.Size([74682, 30])\n",
      "torch.Size([74682])\n"
     ]
    }
   ],
   "source": [
    "import spacy\n",
    "import torch\n",
    "from torch.utils.data import DataLoader, TensorDataset\n",
    "from sklearn.preprocessing import LabelEncoder\n",
    "\n",
    "# Cargar el modelo de spaCy en inglés\n",
    "nlp = spacy.load(\"en_core_web_sm\")\n",
    "\n",
    "# Función para tokenización y remoción de stopwords usando spaCy\n",
    "def preprocess_text(text):\n",
    "    doc = nlp(text.lower())  # Procesa el texto\n",
    "    tokens = [token.text for token in doc if token.is_alpha and not token.is_stop]  # Remueve stopwords y solo mantiene palabras\n",
    "    return tokens\n",
    "\n",
    "# Aplicar la función a cada texto\n",
    "df['Tokens'] = df['Text'].apply(preprocess_text)\n",
    "\n",
    "# Crear un vocabulario\n",
    "# Construimos un índice para cada palabra\n",
    "vocab = {}\n",
    "for tokens in df['Tokens']:\n",
    "    for token in tokens:\n",
    "        if token not in vocab:\n",
    "            vocab[token] = len(vocab) + 1  # El índice empieza en 1\n",
    "\n",
    "# Convertir tokens a secuencias de índices\n",
    "def tokens_to_indices(tokens):\n",
    "    return [vocab[token] for token in tokens if token in vocab]\n",
    "\n",
    "df['Token_Indices'] = df['Tokens'].apply(tokens_to_indices)\n",
    "\n",
    "# Definir longitud máxima y aplicar padding\n",
    "max_len = 30  # longitud máxima de secuencia para padding\n",
    "def pad_sequence(seq, max_len):\n",
    "    return seq[:max_len] + [0] * max(0, max_len - len(seq))\n",
    "\n",
    "df['Padded_Indices'] = df['Token_Indices'].apply(lambda x: pad_sequence(x, max_len))\n",
    "\n",
    "# Convertir los datos a tensores de PyTorch\n",
    "X = torch.tensor(df['Padded_Indices'].tolist())\n",
    "\n",
    "# Codificar las etiquetas\n",
    "label_encoder = LabelEncoder()\n",
    "y = label_encoder.fit_transform(df['Sentiment'])\n",
    "y = torch.tensor(y)\n",
    "\n",
    "# Verificar las dimensiones finales de X e y\n",
    "print(X.shape)  # Debe tener forma (n_samples, max_len)\n",
    "print(y.shape)  # Debe tener forma (n_samples,)\n"
   ]
  },
  {
   "cell_type": "markdown",
   "metadata": {},
   "source": [
    "### Entrenamiento de modelos"
   ]
  },
  {
   "cell_type": "code",
   "execution_count": null,
   "metadata": {},
   "outputs": [
    {
     "name": "stdout",
     "output_type": "stream",
     "text": [
      "Requirement already satisfied: scikit-learn in c:\\users\\kayma\\appdata\\local\\packages\\pythonsoftwarefoundation.python.3.11_qbz5n2kfra8p0\\localcache\\local-packages\\python311\\site-packages (1.5.1)Note: you may need to restart the kernel to use updated packages.\n",
      "\n",
      "Requirement already satisfied: numpy>=1.19.5 in c:\\users\\kayma\\appdata\\local\\packages\\pythonsoftwarefoundation.python.3.11_qbz5n2kfra8p0\\localcache\\local-packages\\python311\\site-packages (from scikit-learn) (2.0.1)\n",
      "Requirement already satisfied: scipy>=1.6.0 in c:\\users\\kayma\\appdata\\local\\packages\\pythonsoftwarefoundation.python.3.11_qbz5n2kfra8p0\\localcache\\local-packages\\python311\\site-packages (from scikit-learn) (1.14.0)\n",
      "Requirement already satisfied: joblib>=1.2.0 in c:\\users\\kayma\\appdata\\local\\packages\\pythonsoftwarefoundation.python.3.11_qbz5n2kfra8p0\\localcache\\local-packages\\python311\\site-packages (from scikit-learn) (1.4.2)\n",
      "Requirement already satisfied: threadpoolctl>=3.1.0 in c:\\users\\kayma\\appdata\\local\\packages\\pythonsoftwarefoundation.python.3.11_qbz5n2kfra8p0\\localcache\\local-packages\\python311\\site-packages (from scikit-learn) (3.5.0)\n"
     ]
    },
    {
     "name": "stderr",
     "output_type": "stream",
     "text": [
      "\n",
      "[notice] A new release of pip is available: 24.2 -> 24.3.1\n",
      "[notice] To update, run: C:\\Users\\kayma\\AppData\\Local\\Microsoft\\WindowsApps\\PythonSoftwareFoundation.Python.3.11_qbz5n2kfra8p0\\python.exe -m pip install --upgrade pip\n"
     ]
    }
   ],
   "source": [
    "# pip install scikit-learn"
   ]
  },
  {
   "cell_type": "code",
   "execution_count": 9,
   "metadata": {},
   "outputs": [
    {
     "name": "stdout",
     "output_type": "stream",
     "text": [
      "Accuracy: 0.30447881100622615\n",
      "              precision    recall  f1-score   support\n",
      "\n",
      "           0       0.00      0.00      0.00      2676\n",
      "           1       0.31      0.97      0.46      4524\n",
      "           2       0.29      0.04      0.08      3580\n",
      "           3       0.80      0.00      0.00      4157\n",
      "\n",
      "    accuracy                           0.30     14937\n",
      "   macro avg       0.35      0.25      0.14     14937\n",
      "weighted avg       0.38      0.30      0.16     14937\n",
      "\n"
     ]
    },
    {
     "name": "stderr",
     "output_type": "stream",
     "text": [
      "C:\\Users\\kayma\\AppData\\Local\\Packages\\PythonSoftwareFoundation.Python.3.11_qbz5n2kfra8p0\\LocalCache\\local-packages\\Python311\\site-packages\\sklearn\\neural_network\\_multilayer_perceptron.py:690: ConvergenceWarning: Stochastic Optimizer: Maximum iterations (10) reached and the optimization hasn't converged yet.\n",
      "  warnings.warn(\n"
     ]
    }
   ],
   "source": [
    "from sklearn.neural_network import MLPClassifier\n",
    "from sklearn.model_selection import train_test_split\n",
    "from sklearn.metrics import classification_report, accuracy_score\n",
    "\n",
    "# Dividir los datos en entrenamiento y prueba\n",
    "X_train, X_test, y_train, y_test = train_test_split(X, y, test_size=0.2, random_state=1)\n",
    "\n",
    "# Crear y entrenar un MLPClassifier\n",
    "mlp = MLPClassifier(hidden_layer_sizes=(64, 32), max_iter=10, random_state=1)\n",
    "mlp.fit(X_train, y_train)\n",
    "\n",
    "# Predicciones\n",
    "y_pred = mlp.predict(X_test)\n",
    "\n",
    "# Evaluación\n",
    "print(\"Accuracy:\", accuracy_score(y_test, y_pred))\n",
    "print(classification_report(y_test, y_pred))\n"
   ]
  },
  {
   "cell_type": "code",
   "execution_count": null,
   "metadata": {},
   "outputs": [],
   "source": [
    "# Los resultados iniciales del modelo de red neuronal multicapa (MLPClassifier) mostraron una precisión baja (30%) y un desbalance \n",
    "# significativo en las clases. Esto sugiere que la representación del texto y la complejidad del modelo no fueron suficientes para\n",
    "# capturar adecuadamente las características de los datos de texto. Para mejorar los resultados, utilizamos un clasificador más robusto, \n",
    "# en este caso, Random Forest, que es menos sensible al desbalance de clases y a la representación inicial del texto."
   ]
  },
  {
   "cell_type": "code",
   "execution_count": 10,
   "metadata": {},
   "outputs": [
    {
     "name": "stdout",
     "output_type": "stream",
     "text": [
      "Accuracy: 0.6604405168373837\n",
      "              precision    recall  f1-score   support\n",
      "\n",
      "           0       0.81      0.49      0.61      2676\n",
      "           1       0.62      0.74      0.68      4524\n",
      "           2       0.61      0.67      0.64      3580\n",
      "           3       0.69      0.68      0.69      4157\n",
      "\n",
      "    accuracy                           0.66     14937\n",
      "   macro avg       0.69      0.64      0.65     14937\n",
      "weighted avg       0.67      0.66      0.66     14937\n",
      "\n"
     ]
    }
   ],
   "source": [
    "from sklearn.ensemble import RandomForestClassifier\n",
    "\n",
    "rf = RandomForestClassifier(n_estimators=100, random_state=1)\n",
    "rf.fit(X_train, y_train)\n",
    "y_pred = rf.predict(X_test)\n",
    "print(\"Accuracy:\", accuracy_score(y_test, y_pred))\n",
    "print(classification_report(y_test, y_pred))"
   ]
  },
  {
   "cell_type": "code",
   "execution_count": null,
   "metadata": {},
   "outputs": [],
   "source": [
    "# El modelo Random Forest ofrece una precisión significativamente mayor y un equilibrio mejorado entre precisión y recall en comparación \n",
    "# con el modelo de red neuronal básica. Esto sugiere que Random Forest es una elección más adecuada para este problema de clasificación \n",
    "# de texto, ya que maneja mejor el desbalance de clases y la representación de características."
   ]
  },
  {
   "cell_type": "markdown",
   "metadata": {},
   "source": [
    "### Evaluación y conclusiones"
   ]
  },
  {
   "cell_type": "code",
   "execution_count": 11,
   "metadata": {},
   "outputs": [
    {
     "data": {
      "text/plain": [
       "<sklearn.metrics._plot.confusion_matrix.ConfusionMatrixDisplay at 0x1f564e4a910>"
      ]
     },
     "execution_count": 11,
     "metadata": {},
     "output_type": "execute_result"
    },
    {
     "data": {
      "image/png": "[encoded data removed]",
      "text/plain": [
       "<Figure size 640x480 with 2 Axes>"
      ]
     },
     "metadata": {},
     "output_type": "display_data"
    }
   ],
   "source": [
    "from sklearn.metrics import confusion_matrix, ConfusionMatrixDisplay\n",
    "\n",
    "cm = confusion_matrix(y_test, y_pred)\n",
    "disp = ConfusionMatrixDisplay(confusion_matrix=cm, display_labels=label_encoder.classes_)\n",
    "disp.plot()"
   ]
  },
  {
   "cell_type": "code",
   "execution_count": null,
   "metadata": {},
   "outputs": [],
   "source": [
    "# La matriz de confusión confirma que el modelo Random Forest funciona de manera decente para clasificar entre clases, pero tiene algunas \n",
    "# dificultades para diferenciar clases cercanas en significado (por ejemplo, \"Positive\" y \"Negative\").\n",
    "# Las clases Neutral y Irrelevant parecen ser las más problemáticas, con errores comunes en su clasificación."
   ]
  },
  {
   "cell_type": "code",
   "execution_count": null,
   "metadata": {},
   "outputs": [],
   "source": [
    "# Conclusiones: En el proyecto se abordó un análisis de sentimiento utilizando un dataset de Twitter. \n",
    "# Preprocesamiento de Texto: Se implementaron técnicas de procesamiento de lenguaje natural (NLP) como la tokenización, eliminación de palabras vacías y vectorización \n",
    "# mediante secuencias de índices y padding. Estas transformaciones convirtieron el texto en un formato numérico que los modelos de clasificación pueden interpretar y procesar.\n",
    "# Comparación de Modelos: Comenzamos el análisis con un modelo de red neuronal básica (MLPClassifier), que alcanzó una precisión del 30%. Este modelo presentó dificultades \n",
    "# para reconocer patrones complejos en los datos de texto y para manejar el desbalance entre las clases. A raíz de estos resultados, optamos por probar el modelo Random Forest, \n",
    "# conocido por su capacidad de manejar mejor el desbalance de clases y funcionar bien con representaciones menos complejas del texto.\n",
    "# Resultados del Modelo Final: Con el modelo de Random Forest, logramos una precisión del 66%, lo que significa una mejora considerable respecto al modelo inicial. \n",
    "# La matriz de confusión mostró que el modelo clasifica adecuadamente la mayoría de las clases, aunque sigue teniendo problemas para diferenciar entre sentimientos similares, \n",
    "# como \"Positive\" y \"Negative\", y entre \"Irrelevant\" y \"Neutral\".\n",
    "# A pesar de los buenos resultados, el modelo de Random Forest tiene limitaciones para capturar el contexto semántico en el texto. En futuras mejoras, sería interesante \n",
    "# explorar el uso de embeddings de palabras, como Word2Vec o GloVe, o incluso implementar modelos de Deep Learning más avanzados (como LSTM o Transformers) para captar mejor el \n",
    "# contexto de las palabras y optimizar la precisión en la clasificación."
   ]
  }
 ],
 "metadata": {
  "kernelspec": {
   "display_name": "Python 3",
   "language": "python",
   "name": "python3"
  },
  "language_info": {
   "codemirror_mode": {
    "name": "ipython",
    "version": 3
   },
   "file_extension": ".py",
   "mimetype": "text/x-python",
   "name": "python",
   "nbconvert_exporter": "python",
   "pygments_lexer": "ipython3",
   "version": "3.11.9"
  }
 },
 "nbformat": 4,
 "nbformat_minor": 2
}
